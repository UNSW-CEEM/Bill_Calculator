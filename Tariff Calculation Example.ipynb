{
 "cells": [
  {
   "cell_type": "markdown",
   "metadata": {},
   "source": [
    "## Tariff Analysis Example\n",
    "\n",
    "This is an example of how to apply tariffs on load profiles, visualise the results, and do further analysis. To get the notebook and asscociated python files refer to https://github.com/UNSW-CEEM/Bill_Calculator\n",
    "\n",
    "Prepared by: Navid Haghdadi , March 2019\n",
    "Updated June 2019"
   ]
  },
  {
   "cell_type": "code",
   "execution_count": 1,
   "metadata": {},
   "outputs": [
    {
     "data": {
      "text/html": [
       "        <script type=\"text/javascript\">\n",
       "        window.PlotlyConfig = {MathJaxConfig: 'local'};\n",
       "        if (window.MathJax) {MathJax.Hub.Config({SVG: {font: \"STIX-Web\"}});}\n",
       "        if (typeof require !== 'undefined') {\n",
       "        require.undef(\"plotly\");\n",
       "        requirejs.config({\n",
       "            paths: {\n",
       "                'plotly': ['https://cdn.plot.ly/plotly-latest.min']\n",
       "            }\n",
       "        });\n",
       "        require(['plotly'], function(Plotly) {\n",
       "            window._Plotly = Plotly;\n",
       "        });\n",
       "        }\n",
       "        </script>\n",
       "        "
      ]
     },
     "metadata": {},
     "output_type": "display_data"
    }
   ],
   "source": [
    "# Importing the libraries we want:\n",
    "import pandas as pd\n",
    "import numpy as np\n",
    "from Bill_Calc import bill_calculator as calc\n",
    "import json\n",
    "import io\n",
    "from datetime import datetime\n",
    "from ipywidgets import interact, interactive, fixed, interact_manual\n",
    "from IPython.display import display\n",
    "import ipywidgets as widgets\n",
    "import requests\n",
    "from IPython.core.interactiveshell import InteractiveShell\n",
    "InteractiveShell.ast_node_interactivity = \"all\"\n",
    "import plotly\n",
    "import plotly.graph_objs as go\n",
    "from plotly.offline import download_plotlyjs, init_notebook_mode, plot, iplot\n",
    "init_notebook_mode(connected=True)\n",
    "\n",
    "np.warnings.filterwarnings('ignore')"
   ]
  },
  {
   "cell_type": "markdown",
   "metadata": {},
   "source": [
    "## 1. Reading the load profile\n",
    "Put the path of load profile as below"
   ]
  },
  {
   "cell_type": "code",
   "execution_count": null,
   "metadata": {},
   "outputs": [],
   "source": [
    "LoadProfiles=pd.read_csv('SampleLoadProfile.csv')\n",
    "LoadProfiles['Datetime']=pd.to_datetime(LoadProfiles['Datetime'],format='%d/%m/%Y %H:%M')"
   ]
  },
  {
   "cell_type": "code",
   "execution_count": null,
   "metadata": {},
   "outputs": [],
   "source": [
    "def DataPlot1(HomeNo):\n",
    "    data = [{\"x\":LoadProfiles['Datetime'], \"y\":LoadProfiles.iloc[:,HomeNo]}]\n",
    "    layout = go.Layout(title='Home number: '+str(HomeNo))\n",
    "    iplot({\"data\":data,\"layout\":layout})"
   ]
  },
  {
   "cell_type": "code",
   "execution_count": null,
   "metadata": {},
   "outputs": [],
   "source": [
    "w=interactive(DataPlot1, HomeNo=list(range(1, LoadProfiles.shape[1]-1)))\n",
    "display(w)"
   ]
  },
  {
   "cell_type": "code",
   "execution_count": null,
   "metadata": {},
   "outputs": [],
   "source": [
    "# I've prepared a sample network load as well (aggregation of 4000 homes as a proxy for network load)\n",
    "NetworkLoad=pd.read_csv('NetworkLoad.csv')\n",
    "NetworkLoad['Datetime']=pd.to_datetime(NetworkLoad['Datetime'],format='%d/%m/%Y %H:%M')\n",
    "data = [{\"x\":NetworkLoad['Datetime'], \"y\":NetworkLoad['kWh']}]\n",
    "layout = go.Layout(showlegend=True, title='Network load')\n",
    "iplot({\"data\":data,\"layout\":layout})"
   ]
  },
  {
   "cell_type": "code",
   "execution_count": null,
   "metadata": {},
   "outputs": [],
   "source": [
    "Allsum=LoadProfiles.sum()/365 # kWh/day\n",
    "\n",
    "data=[go.Histogram(x=Allsum)]\n",
    "layout = go.Layout(showlegend=True, title='kWh/day')\n",
    "\n",
    "iplot({\"data\":data,\"layout\":layout})"
   ]
  },
  {
   "cell_type": "code",
   "execution_count": null,
   "metadata": {},
   "outputs": [],
   "source": [
    "# Let's compare the peak value of each home to the value of each home at the time of network peak (coincident peak):\n",
    "Coincident_Peak_Time=NetworkLoad.loc[NetworkLoad['kWh'].idxmax(),'Datetime'] \n",
    "Coincident_Peak_Value=NetworkLoad.loc[NetworkLoad['kWh'].idxmax(),'kWh']\n",
    "display('Coincident Peak Time = '+ str(Coincident_Peak_Time))\n",
    "display('Coincident Peak Value = '+ str(Coincident_Peak_Value) +' kWh')"
   ]
  },
  {
   "cell_type": "code",
   "execution_count": null,
   "metadata": {},
   "outputs": [],
   "source": [
    "\n",
    "data =[go.Scatter(x=LoadProfiles.iloc[NetworkLoad['kWh'].idxmax(),1:].values, y= LoadProfiles.iloc[:,1:].max(),name='Total Bill ($)', mode='markers')]\n",
    "   \n",
    "layout = go.Layout(title='Comparison of home peak and network peak',xaxis=dict(title='Coincident peak (kWh)'),yaxis=dict(title='Home peak (kWh)'))\n",
    "fig = go.Figure(data, layout)\n",
    "iplot(fig)"
   ]
  },
  {
   "cell_type": "markdown",
   "metadata": {},
   "source": [
    "### Applying Tariffs\n",
    "First you need to select the tariff. You can directly access the CEEM tariff API http://api.ceem.org.au/elec-tariffs/retail for **retail tariffs** or http://api.ceem.org.au/elec-tariffs/network for **network tariff**. Please note it may take few seconds to get the data.\n",
    "\n",
    "Alternatively you can use the offline json file in the repositoy:\n",
    "`AllTariffs_network.json` or `AllTariffs_retail.json`\n",
    "\n",
    "You can update the list of tariff (get the latest version from API) as described below."
   ]
  },
  {
   "cell_type": "markdown",
   "metadata": {},
   "source": [
    "**Option 1: Get it from API**"
   ]
  },
  {
   "cell_type": "code",
   "execution_count": null,
   "metadata": {},
   "outputs": [],
   "source": [
    "#  Network\n",
    "all_tariffs = requests.get('http://api.ceem.org.au/elec-tariffs/network')\n",
    "all_tariffs_list= all_tariffs.json()\n",
    "\n",
    "#  Retail\n",
    "all_tariffs = requests.get('http://api.ceem.org.au/elec-tariffs/retail')\n",
    "all_tariffs_list= all_tariffs.json()"
   ]
  },
  {
   "cell_type": "markdown",
   "metadata": {},
   "source": [
    "**Option 2: Get it from local json file (network or retail)**"
   ]
  },
  {
   "cell_type": "code",
   "execution_count": 2,
   "metadata": {},
   "outputs": [],
   "source": [
    "#  Network\n",
    "# with open('AllTariffs_network.json') as f:\n",
    "#      all_tariffs_list = json.load(f)\n",
    "# Retail        \n",
    "with open('AllTariffs_retail.json') as f:\n",
    "     all_tariffs_list = json.load(f)\n",
    "\n"
   ]
  },
  {
   "cell_type": "markdown",
   "metadata": {},
   "source": [
    "**Update the local json file from the API:**"
   ]
  },
  {
   "cell_type": "code",
   "execution_count": null,
   "metadata": {},
   "outputs": [],
   "source": [
    "# # Network tariff\n",
    "# all_tariffs = requests.get('http://api.ceem.org.au/elec-tariffs/network')\n",
    "# all_tariffs_list= all_tariffs.json()\n",
    "# with io.open('AllTariffs_network.json', 'w', encoding='utf8') as outfile:\n",
    "#     json.dump(all_tariffs_list, outfile)\n",
    "    \n",
    "# # Retail tariff\n",
    "# all_tariffs = requests.get('http://api.ceem.org.au/elec-tariffs/retail')\n",
    "# all_tariffs_list= all_tariffs.json()\n",
    "# with io.open('AllTariffs_retail.json', 'w', encoding='utf8') as outfile:\n",
    "#     json.dump(all_tariffs_list, outfile)"
   ]
  },
  {
   "cell_type": "markdown",
   "metadata": {},
   "source": [
    "## Select the tariff ##"
   ]
  },
  {
   "cell_type": "code",
   "execution_count": 3,
   "metadata": {
    "scrolled": false
   },
   "outputs": [
    {
     "data": {
      "application/vnd.jupyter.widget-view+json": {
       "model_id": "286cb17f84924404a13ed9f7cb40fd35",
       "version_major": 2,
       "version_minor": 0
      },
      "text/plain": [
       "interactive(children=(Dropdown(description='Tariff', options=('Simple Energy Flat Rate ACT', 'Energy Locals TO…"
      ]
     },
     "metadata": {},
     "output_type": "display_data"
    }
   ],
   "source": [
    "TariffList=[]\n",
    "for i in range(len(all_tariffs_list)):\n",
    "#     display(all_tariffs_list[i]['Name'])\n",
    "    TariffList.append(all_tariffs_list[i]['Name'])\n",
    "    \n",
    "def SelTariff(Tariff):\n",
    "    for i in range(len(all_tariffs_list)):\n",
    "        if all_tariffs_list[i]['Name'] == Tariff:\n",
    "            selected_tariff = all_tariffs_list[i] \n",
    "    display(selected_tariff)\n",
    "    # print(json.dumps(selected_tariff, indent=2))\n",
    "\n",
    "w=interactive(SelTariff, Tariff=TariffList)\n",
    "display(w)\n",
    "# SelTariff('Origin Flat Rate NSW (Endeavour area)')  \n",
    "\n"
   ]
  },
  {
   "cell_type": "markdown",
   "metadata": {},
   "source": [
    "## Apply the tariff"
   ]
  },
  {
   "cell_type": "code",
   "execution_count": null,
   "metadata": {},
   "outputs": [],
   "source": [
    "for i in range(len(all_tariffs_list)):\n",
    "        if all_tariffs_list[i]['Name'] == w.kwargs['Tariff']:\n",
    "            tariff = all_tariffs_list[i] \n",
    "            \n",
    "load_profile = LoadProfiles.copy().set_index('Datetime')\n",
    "Results = calc(load_profile, tariff)\n",
    "\n",
    "Results.head()\n"
   ]
  },
  {
   "cell_type": "markdown",
   "metadata": {},
   "source": [
    "## Download the result\n",
    "Select columns you want to export and then click Export to CSV. The CSV file will be saved in the same folder as you have this notebook with the current date and time in the name of it. "
   ]
  },
  {
   "cell_type": "code",
   "execution_count": null,
   "metadata": {},
   "outputs": [],
   "source": [
    "W2=widgets.SelectMultiple(options=Results.columns,value=['Annual_kWh'],rows=10,description='Columns',disabled=False)\n",
    "display(W2)\n",
    "W3=widgets.Button(description='Export to CSV',disabled=False,button_style='info',tooltip='Export to CSV',icon='check')\n",
    "display(W3)\n",
    "\n",
    "def on_button_clicked(b):\n",
    "    Results2 = Results[Results.columns.intersection(W2.value)]\n",
    "    Results2.to_csv('Results' + datetime.now().strftime(\"%Y%m%d_%H%M\" +'.csv'))\n",
    "W3.on_click(on_button_clicked)"
   ]
  },
  {
   "cell_type": "markdown",
   "metadata": {},
   "source": [
    "## Plot the results\n",
    "Click on the legend of the columns you want to see"
   ]
  },
  {
   "cell_type": "code",
   "execution_count": null,
   "metadata": {},
   "outputs": [],
   "source": [
    "# Plotting the results:\n",
    "def PlotResult(Results):\n",
    "    data =[]\n",
    "    # data\n",
    "    for i in Results.columns:\n",
    "        data.append(go.Scatter(x= Results['Annual_kWh'], y= Results[i], name=i, mode='markers', visible = \"legendonly\"))\n",
    "    layout = go.Layout(title='Results', xaxis=dict(title='kWh'))\n",
    "    fig = go.Figure(data, layout)\n",
    "    iplot(fig)\n",
    "    \n",
    "PlotResult(Results)"
   ]
  },
  {
   "cell_type": "code",
   "execution_count": null,
   "metadata": {
    "scrolled": false
   },
   "outputs": [],
   "source": [
    "# Now let's bring solar to the game!\n",
    "\n",
    "SolarProf=pd.read_csv('100SolarProf.csv')\n",
    "SolarProf['Datetime']=pd.to_datetime(SolarProf['Datetime'],format='%d/%m/%Y %H:%M')\n",
    "\n",
    "\n",
    "# W3=widgets.ToggleButtons(options=['Solar Generation', 'kWh/Day', 'Average load and solar'],\n",
    "#     description='Chart type:', disabled=False, button_style='', # 'success', 'info', 'warning', 'danger' or ''\n",
    "#     tooltips=['Solar Generation', 'kWh/Day', 'Average load and solar'])\n",
    "# display(W3)\n",
    "\n",
    "# def on_click(change):\n",
    "#     if W3.value == 'Solar Generation':\n",
    "data =[go.Scatter(x=SolarProf['Datetime'], y= np.nanmean(SolarProf.iloc[:,1:].values,axis=1),name='Total Bill ($)', mode='lines')]\n",
    "layout = go.Layout(title='Average of solar homes',xaxis=dict(title='time'),yaxis=dict(title='Solar Generation (kWh)'))\n",
    "fig=go.Figure(data, layout)\n",
    "iplot(fig)\n",
    "        \n",
    "#     elif W3.value == 'kWh/Day':\n",
    "AllsumPV=SolarProf.sum()/365 # kWh/day\n",
    "data=[go.Histogram(x=AllsumPV)]\n",
    "layout = go.Layout(showlegend=True, title='kWh/day')\n",
    "iplot({\"data\":data,\"layout\":layout})\n",
    "#     elif W3.value == 'Average load and solar':\n",
    "data =[go.Scatter(x=SolarProf['Datetime'], y= np.nanmean(load_profile.iloc[:,1:].values,axis=1),name='Load', mode='lines'),\n",
    "go.Scatter(x=SolarProf['Datetime'], y= np.nanmean(NetLoad.iloc[:,1:].values,axis=1),name='Netload', mode='lines'),\n",
    "go.Scatter(x=SolarProf['Datetime'], y= np.nanmean(SolarProf.iloc[:,1:].values,axis=1),name='Solar', mode='lines')]\n",
    "layout = go.Layout(title='Time',xaxis=dict(title='time'),yaxis=dict(title='Load and Solar'))\n",
    "fig=go.Figure(data, layout)\n",
    "iplot(fig)\n",
    "        \n",
    "# W3.observe(on_click, 'value')\n"
   ]
  },
  {
   "cell_type": "code",
   "execution_count": null,
   "metadata": {},
   "outputs": [],
   "source": [
    "#  Now we can subtract the solar profile from load profile to find out the net load \n",
    "# (we assume these 100 solar profiles belong to those 100 homes)\n",
    "\n",
    "CombinedLoad=LoadProfiles.merge(SolarProf,on='Datetime')\n",
    "NetLoad=pd.concat([CombinedLoad['Datetime'],pd.DataFrame(data=CombinedLoad[CombinedLoad.columns[1:101]].values-CombinedLoad[CombinedLoad.columns[101:]].values)],axis=1)\n",
    "\n",
    "# Take a look at the load:\n",
    "data = [{\"x\":NetLoad['Datetime'], \"y\":NetLoad[col]} for col in NetLoad.columns[1:10]]\n",
    "layout = go.Layout(showlegend=True, title='First 10 homes (Net load)')\n",
    "iplot({\"data\":data,\"layout\":layout})"
   ]
  },
  {
   "cell_type": "code",
   "execution_count": null,
   "metadata": {},
   "outputs": [],
   "source": [
    "#  Now let's calculate the bill again \n",
    "Net_Load = NetLoad.copy().set_index('Datetime')\n",
    "Results_FR_Sol = calc(Net_Load, tariff)\n",
    "PlotResult(Results_FR_Sol)"
   ]
  },
  {
   "cell_type": "code",
   "execution_count": null,
   "metadata": {},
   "outputs": [],
   "source": [
    "# Now let's double the capacity of PV systems:\n",
    "NetLoad_DoublePV=pd.concat([CombinedLoad['Datetime'],pd.DataFrame(data=CombinedLoad[CombinedLoad.columns[1:101]].values-2*CombinedLoad[CombinedLoad.columns[101:]].values)],axis=1)\n",
    "Net_Load_DoublePV = NetLoad_DoublePV.copy().set_index('Datetime')\n",
    "\n",
    "Results_FR_Sol_2 = calc(Net_Load_DoublePV, tariff)\n",
    "PlotResult(Results_FR_Sol_2)"
   ]
  },
  {
   "cell_type": "code",
   "execution_count": null,
   "metadata": {},
   "outputs": [],
   "source": [
    "data =[go.Scatter(x= Results_FR_Sol_2['Annual_kWh'], y= Results['Bill'],name='Total Bill ($) - without solar', mode='markers'),\n",
    "      go.Scatter(x= Results_FR_Sol_2['Annual_kWh'], y= Results_FR_Sol['Bill'],name='Total Bill ($) - with solar', mode='markers'),\n",
    "      go.Scatter(x= Results_FR_Sol_2['Annual_kWh'], y= Results_FR_Sol_2['Bill'],name='Total Bill ($) - with double solar', mode='markers')]\n",
    "layout = go.Layout(title='Comparison of bills in three solar scenarios',xaxis=dict(title='kWh'),yaxis=dict(title='Bill'))\n",
    "fig = go.Figure(data, layout)\n",
    "iplot(fig)"
   ]
  },
  {
   "cell_type": "code",
   "execution_count": null,
   "metadata": {},
   "outputs": [],
   "source": [
    "#  How about the TOU tariff?\n",
    "\n",
    "Results_TOU_Sol = calc(Net_Load, tariff_TOU)\n",
    "Results_TOU_Sol_2 = calc(Net_Load_DoublePV, tariff_TOU)\n",
    "\n",
    "data =[go.Scatter(x= Results_TOU['Annual_kWh'], y= Results_TOU['Bill'],name='Total Bill ($) - without solar', mode='markers'),\n",
    "      go.Scatter(x= Results_TOU_Sol['Annual_kWh'], y= Results_TOU_Sol['Bill'],name='Total Bill ($) - with solar', mode='markers'),\n",
    "      go.Scatter(x= Results_TOU_Sol_2['Annual_kWh'], y= Results_TOU_Sol_2['Bill'],name='Total Bill ($) - with double solar', mode='markers')]\n",
    "layout = go.Layout(title='Comparison of bills in three solar scenarios for TOU tariffs',xaxis=dict(title='kWh'),yaxis=dict(title='Bill'))\n",
    "fig = go.Figure(data, layout)\n",
    "iplot(fig)\n"
   ]
  },
  {
   "cell_type": "code",
   "execution_count": null,
   "metadata": {},
   "outputs": [],
   "source": [
    "#  Now let's have a look at the appliance level data\n",
    "# A sample load profile from Smart Grid Smart City trial\n",
    "# Reading the load profile\n",
    "\n",
    "LoadProfile_App=pd.read_csv('ApplianceData.csv')\n",
    "LoadProfile_App['TimeStamp']=pd.to_datetime(LoadProfile_App['TimeStamp'],format='%d/%m/%Y %H:%M')\n",
    "# Take a look at the load:\n",
    "data = [dict(x=LoadProfile_App['TimeStamp'], y=LoadProfile_App['Aircon'],stackgroup='one',name='Aircon'),\n",
    "       dict(x=LoadProfile_App['TimeStamp'], y=LoadProfile_App['Computer'],stackgroup='one',name='Computer'),\n",
    "        dict(x=LoadProfile_App['TimeStamp'], y=LoadProfile_App['B1'],stackgroup='one',name='B1'),\n",
    "       dict(x=LoadProfile_App['TimeStamp'], y=LoadProfile_App['Dishwasher'],stackgroup='one',name='Dishwasher'),\n",
    "       dict(x=LoadProfile_App['TimeStamp'], y=LoadProfile_App['Microwave'],stackgroup='one',name='Microwave'),\n",
    "       dict(x=LoadProfile_App['TimeStamp'], y=LoadProfile_App['Oven'],stackgroup='one',name='Oven'),\n",
    "       dict(x=LoadProfile_App['TimeStamp'], y=LoadProfile_App['TV'],stackgroup='one',name='TV'),\n",
    "       dict(x=LoadProfile_App['TimeStamp'], y=LoadProfile_App['TV2'],stackgroup='one',name='TV2'),\n",
    "        dict(x=LoadProfile_App['TimeStamp'], y=LoadProfile_App['TV3'],stackgroup='one',name='TV3'),\n",
    "        dict(x=LoadProfile_App['TimeStamp'], y=LoadProfile_App['Washing'],stackgroup='one',name='Washing'),\n",
    "         dict(x=LoadProfile_App['TimeStamp'], y=LoadProfile_App['HotPlates'],stackgroup='one',name='HotPlates')\n",
    "       ]\n",
    "layout = go.Layout(title='Appliance Level Data')\n",
    "iplot({\"data\":data,\"layout\":layout})\n"
   ]
  },
  {
   "cell_type": "code",
   "execution_count": null,
   "metadata": {},
   "outputs": [],
   "source": [
    "LoadProfile_App=LoadProfile_App.rename(columns={'TimeStamp':'Datetime'})\n",
    "LoadProfile_App2=LoadProfile_App.set_index('Datetime')\n",
    "Results_AppData = calc(LoadProfile_App2, tariff)\n",
    "display(Results_AppData)"
   ]
  },
  {
   "cell_type": "code",
   "execution_count": null,
   "metadata": {},
   "outputs": [],
   "source": []
  }
 ],
 "metadata": {
  "kernelspec": {
   "display_name": "Python 3",
   "language": "python",
   "name": "python3"
  },
  "language_info": {
   "codemirror_mode": {
    "name": "ipython",
    "version": 3
   },
   "file_extension": ".py",
   "mimetype": "text/x-python",
   "name": "python",
   "nbconvert_exporter": "python",
   "pygments_lexer": "ipython3",
   "version": "3.6.7"
  }
 },
 "nbformat": 4,
 "nbformat_minor": 2
}
